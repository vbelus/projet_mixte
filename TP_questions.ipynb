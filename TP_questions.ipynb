{
 "cells": [
  {
   "cell_type": "markdown",
   "metadata": {},
   "source": [
    "# TP -- Pracical work\n",
    "\n",
    "### Table of Contents\n",
    "\n",
    "* [Introduction](#introduction)\n",
    "* [1. Analysing variability, capacity factors](#1.variability)\n",
    "    * [Q1.1. Load factor (production/consumption)](#1.1.Question)\n",
    "    * [Q1.2. Most simple dimensioning rules -- Lower and upper bound](#1.2.Question)\n",
    "    * [Q1.3. Dimensioning -- Adding a storage](#1.3.Question)\n",
    "* [2. Economic analysis, computing LCOE, system LCOE](#2.LCOE)\n",
    "    * [Q2.1. LCOE of renewable + Flex system](#2.1.Question)\n",
    "* [3. Optimisation of operation](#3.Operation)\n",
    "    * [Q3.1. Optimisation results and Lagrange multipliers](#3.1.Question)\n",
    "    * [Q3.2. Storage optimisation](#3.2.Question)\n",
    "* [4. Optimisation of planning](#4.Planning)\n",
    "    * [Q4.1. Optimisation results and Lagrange multipliers](#4.1.Question)\n",
    "\n"
   ]
  },
  {
   "cell_type": "markdown",
   "metadata": {},
   "source": [
    "## Introduction <a class=\"anchor\" id=\"introduction\"></a>\n",
    "\n",
    "Question asked here can generally be answered by copy-past of code given in folder \"BasicFunctionalities\" + small modifications/additions of yoru own.\n"
   ]
  },
  {
   "cell_type": "code",
   "execution_count": 2,
   "metadata": {
    "collapsed": false,
    "jupyter": {
     "outputs_hidden": false
    },
    "pycharm": {
     "name": "#%%\n"
    }
   },
   "outputs": [],
   "source": [
    "import os\n",
    "if os.path.basename(os.getcwd())==\"SujetsDAnalyses\":\n",
    "    os.chdir('..') ## to work at project root  like in any IDE\n",
    "\n",
    "InputFolder='Data/input/'\n",
    "\n",
    "#region importation of modules\n",
    "import numpy as np\n",
    "import pandas as pd\n",
    "import seaborn as sns\n",
    "import csv\n",
    "import datetime\n",
    "import copy\n",
    "import plotly.graph_objects as go\n",
    "import matplotlib.pyplot as plt\n",
    "from sklearn import linear_model\n",
    "from functions.f_operationModels import *\n",
    "from functions.f_optimization import *\n",
    "from functions.f_graphicalTools import *\n",
    "import sys\n",
    "\n",
    "#endregion\n",
    "\n",
    "#region Solver and data location definition\n",
    "\n",
    "InputFolder='Data/input/'\n",
    "\n",
    "if sys.platform != 'win32':\n",
    "    myhost = os.uname()[1]\n",
    "else : myhost = \"\"\n",
    "if (myhost==\"jupyter-sop\"):\n",
    "    ## for https://jupyter-sop.mines-paristech.fr/ users, you need to\n",
    "    #  (1) run the following to loanch the license server\n",
    "    if (os.system(\"/opt/mosek/9.2/tools/platform/linux64x86/bin/lmgrd -c /opt/mosek/9.2/tools/platform/linux64x86/bin/mosek.lic -l lmgrd.log\")==0):\n",
    "        os.system(\"/opt/mosek/9.2/tools/platform/linux64x86/bin/lmutil lmstat -c 27007@127.0.0.1 -a\")\n",
    "    #  (2) definition of license\n",
    "    os.environ[\"MOSEKLM_LICENSE_FILE\"] = '@jupyter-sop'\n",
    "\n",
    "BaseSolverPath='/Users/robin.girard/Documents/Code/Packages/solvers/ampl_macosx64' ### change this to the folder with knitro ampl ...\n",
    "## in order to obtain more solver see see https://ampl.com/products/solvers/open-source/\n",
    "## for eduction this site provides also several professional solvers, that are more efficient than e.g. cbc\n",
    "sys.path.append(BaseSolverPath)\n",
    "solvers= ['gurobi','knitro','cbc'] # try 'glpk', 'cplex'\n",
    "solverpath= {}\n",
    "for solver in solvers : solverpath[solver]=BaseSolverPath+'/'+solver\n",
    "solver= 'mosek' ## no need for solverpath with mosek.\n",
    "#endregion\n",
    "\n",
    "from functions.f_consumptionModels import * #Il faut préciser le chemin où vous avez sauvegardé les données csv\n",
    "from functions.f_graphicalTools import * #Il faut préciser le chemin où vous avez sauvegardé les données csv\n",
    "#endregion\n",
    "\n"
   ]
  },
  {
   "cell_type": "markdown",
   "metadata": {},
   "source": [
    "## 1. Analysing variability, capacity factors  <a class=\"anchor\" id=\"1.variability\"></a>\n",
    "To answer questions here, you only need to understand thermal sensitivity manipulations explained in file BasicFunctionalities/input-Consumption.ipynb and\n",
    "and know how to extract Availability data here : BasicFunctionalities/input-Availability.ipynb. You have to know the definition of capacity factor,\n",
    "and the difference between installed power and energy produced. You can find the corresponding definitions in the first two sections of\n",
    "the post [here](https://www.energy-alternatives.eu/2020/05/07/mix-de-production-delectricite-energie-et-puissance.html).\n",
    "\n",
    "### Q1.1. Load factor (production/consumption)  <a class=\"anchor\" id=\"1.1.Question\"></a>\n",
    "\n",
    "**Load factor of consumption**\n",
    "\n",
    "From the available data, compute load factor of consumption mean($C_t$)/max($C_t$) [%]\n",
    "for\n",
    " - year 2016 for different countries available,\n",
    " - years 2013-2017 and for various thermal sensitivity (ranging from zero to 2.5 GW/°C) in the case of France."
   ]
  },
  {
   "cell_type": "code",
   "execution_count": 3,
   "metadata": {
    "collapsed": false,
    "jupyter": {
     "outputs_hidden": false
    },
    "pycharm": {
     "name": "#%%\n"
    }
   },
   "outputs": [
    {
     "data": {
      "text/html": [
       "<div>\n",
       "<style scoped>\n",
       "    .dataframe tbody tr th:only-of-type {\n",
       "        vertical-align: middle;\n",
       "    }\n",
       "\n",
       "    .dataframe tbody tr th {\n",
       "        vertical-align: top;\n",
       "    }\n",
       "\n",
       "    .dataframe thead th {\n",
       "        text-align: right;\n",
       "    }\n",
       "</style>\n",
       "<table border=\"1\" class=\"dataframe\">\n",
       "  <thead>\n",
       "    <tr style=\"text-align: right;\">\n",
       "      <th></th>\n",
       "      <th>LFC</th>\n",
       "    </tr>\n",
       "    <tr>\n",
       "      <th>AREAS</th>\n",
       "      <th></th>\n",
       "    </tr>\n",
       "  </thead>\n",
       "  <tbody>\n",
       "    <tr>\n",
       "      <th>FR</th>\n",
       "      <td>61.622162</td>\n",
       "    </tr>\n",
       "    <tr>\n",
       "      <th>DE</th>\n",
       "      <td>72.659660</td>\n",
       "    </tr>\n",
       "    <tr>\n",
       "      <th>ES</th>\n",
       "      <td>71.014027</td>\n",
       "    </tr>\n",
       "  </tbody>\n",
       "</table>\n",
       "</div>"
      ],
      "text/plain": [
       "             LFC\n",
       "AREAS           \n",
       "FR     61.622162\n",
       "DE     72.659660\n",
       "ES     71.014027"
      ]
     },
     "execution_count": 3,
     "metadata": {},
     "output_type": "execute_result"
    }
   ],
   "source": [
    "# year 2016 for different countries available\n",
    "Zones=\"FR_DE_GB_ES\"\n",
    "year=2016 #only possible year\n",
    "\n",
    "#### reading CSV files\n",
    "areaConsumption = pd.read_csv(InputFolder+'areaConsumption'+str(year)+'_'+str(Zones)+'.csv',\n",
    "                                sep=',',decimal='.',skiprows=0).set_index([\"AREAS\",\"TIMESTAMP\"])\n",
    "TemperatureThreshold = 15\n",
    "\n",
    "LFC_regions = pd.DataFrame(columns = ['AREAS', 'LFC'])\n",
    "\n",
    "for region in [\"FR\",\"DE\",\"ES\"]: ### problem with spain data\n",
    "    ConsoTempeYear_df = areaConsumption.loc[(region,slice(None)),\"areaConsumption\"]\n",
    "\n",
    "    \n",
    "LFC_regions = LFC_regions.set_index([\"AREAS\"])\n",
    "LFC_regions \n"
   ]
  },
  {
   "cell_type": "code",
   "execution_count": 4,
   "metadata": {},
   "outputs": [],
   "source": [
    "# years 2013-2017 and for various thermal sensitivity (ranging from zero to 2.5 GW/°C) in the case of France.\n",
    "ConsoTempe_df=pd.read_csv(InputFolder+'ConsumptionTemperature_1996TO2019_FR.csv')\n",
    "ConsoTempe_df[\"TIMESTAMP\"]=pd.to_datetime(ConsoTempe_df['Date'])\n",
    "ConsoTempe_df=ConsoTempe_df.drop(columns=[\"Date\"]).set_index([\"TIMESTAMP\"])\n",
    "\n",
    "\n",
    "years = list(range(2013, 2018))\n",
    "TemperatureThreshold = 14\n",
    "\n",
    "LFC_years = pd.DataFrame(columns = ['YEAR', \"THERMOSENSITIVITY\", 'LFC'])\n",
    "\n",
    "for year in years:\n",
    "    #Generic function Thermal sensitivity estimation\n",
    "    ConsoTempeYear_df=ConsoTempe_df[str(year)]\n",
    "    for Thermosensibilite0 in np.arange(0,-2.6,-0.1):\n",
    "        Thermosensibilite0 *= 1000\n",
    "        Thermosensibilite = {i:Thermosensibilite0 for i in range(0,24)}\n",
    "        (ConsoTempeYear_decomposed_df, NA) = Decomposeconso(ConsoTempeYear_df, TemperatureThreshold=TemperatureThreshold)\n",
    "        ConsoSepareeNew_df = Recompose(ConsoTempeYear_decomposed_df, Thermosensibilite,\n",
    "                                 Newdata_df = ConsoTempeYear_df,\n",
    "                                 TemperatureThreshold = TemperatureThreshold)\n",
    "        LFC = 100*ConsoSepareeNew_df[\"Consumption\"].mean()/ConsoSepareeNew_df[\"Consumption\"].max()\n",
    "        LFC_years.loc[len(LFC_years)] = [year, Thermosensibilite0, LFC]"
   ]
  },
  {
   "cell_type": "code",
   "execution_count": 77,
   "metadata": {},
   "outputs": [
    {
     "name": "stdout",
     "output_type": "stream",
     "text": [
      "THERMOSENSITIVITY    -2500.0    -2400.0    -2300.0    -2200.0    -2100.0  \\\n",
      "YEAR                                                                       \n",
      "2013.0             59.476564  59.986612  60.513212  61.057181  61.619394   \n",
      "2014.0             58.667080  59.152004  59.650473  60.163062  60.690379   \n",
      "2015.0             57.116718  57.581953  58.054717  58.531040  59.021116   \n",
      "2016.0             61.144696  61.595462  62.058970  62.535770  63.026441   \n",
      "2017.0             56.463800  56.940229  57.431248  57.937536  58.459817   \n",
      "\n",
      "THERMOSENSITIVITY    -2000.0    -1900.0    -1800.0    -1700.0    -1600.0  ...  \\\n",
      "YEAR                                                                      ...   \n",
      "2013.0             62.200784  62.802348  63.425157  64.070355  64.739171  ...   \n",
      "2014.0             61.233070  61.791816  62.164925  62.520927  62.885167  ...   \n",
      "2015.0             59.525550  60.044980  60.580087  61.131590  61.700256  ...   \n",
      "2016.0             63.531599  64.051892  64.588014  65.140696  65.710719  ...   \n",
      "2017.0             58.998862  59.555491  60.130578  60.725057  61.339925  ...   \n",
      "\n",
      "THERMOSENSITIVITY    -900.0     -800.0     -700.0     -600.0     -500.0   \\\n",
      "YEAR                                                                       \n",
      "2013.0             67.279703  67.261027  67.242050  67.222763  67.028753   \n",
      "2014.0             64.653569  64.552008  64.385338  64.217523  64.048551   \n",
      "2015.0             65.729147  66.287503  66.862949  67.456282  67.847257   \n",
      "2016.0             69.357053  69.564710  69.740330  69.919453  70.102184   \n",
      "2017.0             64.737421  64.835610  64.935561  65.037321  65.140941   \n",
      "\n",
      "THERMOSENSITIVITY    -400.0     -300.0     -200.0     -100.0      0.0     \n",
      "YEAR                                                                      \n",
      "2013.0             66.732993  66.434777  66.134075  65.830854  65.525083  \n",
      "2014.0             63.878409  63.707085  63.534568  63.360845  63.185902  \n",
      "2015.0             68.026763  68.209661  67.933921  67.632683  67.330014  \n",
      "2016.0             70.288633  70.478916  70.673151  70.486997  70.271804  \n",
      "2017.0             65.246470  65.353964  65.463476  65.575065  65.667729  \n",
      "\n",
      "[5 rows x 26 columns]\n"
     ]
    },
    {
     "data": {
      "image/png": "[encoded data removed]",
      "text/plain": [
       "<Figure size 432x288 with 1 Axes>"
      ]
     },
     "metadata": {
      "needs_background": "light"
     },
     "output_type": "display_data"
    }
   ],
   "source": [
    "LFC_years\n",
    "LFC_years2 = LFC_years.pivot(index='YEAR', columns='THERMOSENSITIVITY')['LFC']\n",
    "LFC_years2.T.plot()\n",
    "plt.ylabel('Facteur de charge')\n",
    "print(LFC_years2)"
   ]
  },
  {
   "cell_type": "markdown",
   "metadata": {},
   "source": [
    "**Load factor of Wind Power and PV production**\n",
    "\n",
    "Compute load factor of renewable production (PV/Wind) for different years/countries that are available (see input-Availability.ipynb)."
   ]
  },
  {
   "cell_type": "code",
   "execution_count": 72,
   "metadata": {
    "collapsed": false,
    "jupyter": {
     "outputs_hidden": false
    },
    "pycharm": {
     "name": "#%%\n"
    }
   },
   "outputs": [],
   "source": [
    "#region multi zone\n",
    "Zones=\"FR_DE_GB_ES\"\n",
    "year=2016\n",
    "techs = ['WindOnShore', 'Solar']\n",
    "\n",
    "LFC_availability = pd.DataFrame(columns = ['REGION', \"TECH\", 'LFC'])\n",
    "\n",
    "for MyTech in techs:\n",
    "    ### 'Thermal' 'OldNuke' 'HydroRiver' 'HydroReservoir' 'WindOnShore' 'Solar'\n",
    "     #'NewNuke', 'HydroRiver', 'HydroReservoir','WindOnShore', 'WindOffShore', 'Solar', 'Curtailement'}\n",
    "\n",
    "    #### reading CSV files\n",
    "    availabilityFactor = pd.read_csv(InputFolder+'availabilityFactor'+str(year)+'_'+str(Zones)+'.csv',\n",
    "                                    sep=',',decimal='.',skiprows=0)\n",
    "    availabilityFactor0 = availabilityFactor[availabilityFactor['TECHNOLOGIES'] == MyTech]\n",
    "\n",
    "    for region in [\"FR\",\"DE\",\"GB\"]: ### problem with spain data\n",
    "        tabl=availabilityFactor0[availabilityFactor0['AREAS']==region]\n",
    "        LFC = 100*tabl[\"availabilityFactor\"].mean()/tabl[\"availabilityFactor\"].max()\n",
    "        LFC_availability.loc[len(LFC_availability)] = [region, MyTech, LFC]"
   ]
  },
  {
   "cell_type": "code",
   "execution_count": 73,
   "metadata": {},
   "outputs": [
    {
     "name": "stdout",
     "output_type": "stream",
     "text": [
      "TECH        Solar  WindOnShore\n",
      "REGION                        \n",
      "DE      15.033732    23.024143\n",
      "FR      17.747565    26.594428\n",
      "GB      16.292252    32.115316\n"
     ]
    },
    {
     "data": {
      "text/plain": [
       "Text(0, 0.5, 'Facteur de charge')"
      ]
     },
     "execution_count": 73,
     "metadata": {},
     "output_type": "execute_result"
    },
    {
     "data": {
      "image/png": "[encoded data removed]",
      "text/plain": [
       "<Figure size 432x288 with 1 Axes>"
      ]
     },
     "metadata": {
      "needs_background": "light"
     },
     "output_type": "display_data"
    }
   ],
   "source": [
    "LFC_availability\n",
    "LFC_availability2 = LFC_availability.pivot(index='REGION', columns='TECH')['LFC']\n",
    "print(LFC_availability2)\n",
    "LFC_availability2.plot(y=techs, kind=\"bar\")\n",
    "plt.ylabel('Facteur de charge')"
   ]
  },
  {
   "cell_type": "markdown",
   "metadata": {},
   "source": [
    "**\"Load factor\" of nuclear availability**\n",
    "\n",
    "Compute the \"load factor\" of nuclear availability for year 2007 to 2016."
   ]
  },
  {
   "cell_type": "code",
   "execution_count": 69,
   "metadata": {
    "collapsed": false,
    "jupyter": {
     "outputs_hidden": false
    },
    "pycharm": {
     "name": "#%%\n"
    }
   },
   "outputs": [],
   "source": [
    "#region Disponibilité sur la France période 2013-2016\n",
    "region = \"FR\"\n",
    "years = list(range(2013, 2017))\n",
    "techs = ['OldNuke', 'NewNuke']\n",
    "\n",
    "LFC_availability_nuclear = pd.DataFrame(columns = ['YEAR', \"TECH\", 'LFC'])\n",
    "\n",
    "for MyTech in techs:\n",
    "    for year in years:\n",
    "        #### reading CSV files\n",
    "        availabilityFactor = pd.read_csv(InputFolder+'availabilityFactor'+str(year)+'_'+str(region)+'.csv',\n",
    "                                    sep=',',decimal='.',skiprows=0)\n",
    "        availabilityFactor0 = availabilityFactor[availabilityFactor['TECHNOLOGIES'] == MyTech]\n",
    "\n",
    "        LFC = 100*availabilityFactor0[\"availabilityFactor\"].mean()/availabilityFactor0[\"availabilityFactor\"].max()\n",
    "        LFC_availability_nuclear.loc[len(LFC_availability_nuclear)] = [year, MyTech, LFC]"
   ]
  },
  {
   "cell_type": "code",
   "execution_count": 71,
   "metadata": {},
   "outputs": [
    {
     "name": "stdout",
     "output_type": "stream",
     "text": [
      "TECH  NewNuke    OldNuke\n",
      "YEAR                    \n",
      "2013      NaN  80.118043\n",
      "2014      NaN  81.614174\n",
      "2015      NaN  81.357374\n",
      "2016      NaN  75.575799\n"
     ]
    },
    {
     "data": {
      "text/plain": [
       "Text(0, 0.5, 'Facteur de charge')"
      ]
     },
     "execution_count": 71,
     "metadata": {},
     "output_type": "execute_result"
    },
    {
     "data": {
      "image/png": "[encoded data removed]",
      "text/plain": [
       "<Figure size 432x288 with 1 Axes>"
      ]
     },
     "metadata": {
      "needs_background": "light"
     },
     "output_type": "display_data"
    }
   ],
   "source": [
    "LFC_availability_nuclear\n",
    "LFC_availability_nuclear2 = LFC_availability_nuclear.pivot(index='YEAR', columns='TECH')['LFC']\n",
    "print(LFC_availability_nuclear2)\n",
    "LFC_availability_nuclear2.plot(y=techs, kind=\"bar\")\n",
    "plt.ylabel('Facteur de charge')"
   ]
  },
  {
   "cell_type": "markdown",
   "metadata": {},
   "source": [
    "\n",
    "### Q1.2. Most simple dimensioning rules -- Lower and upper bound  <a class=\"anchor\" id=\"1.2.Question\"></a>\n",
    "\n",
    " **a -- Lower bound**\n",
    "\n",
    "How much power of XXX power would you need to install in LLL to have an **annual energy** produced equal to the annual energy consummed in year YYY ?\n",
    " Answer this question for XXX = {Wind, PV, Nuke}, LLL =available country and YYY available year."
   ]
  },
  {
   "cell_type": "code",
   "execution_count": 14,
   "metadata": {},
   "outputs": [
    {
     "name": "stdout",
     "output_type": "stream",
     "text": [
      "TECHNOLOGIES  HydroReservoir  HydroRiver   OldNuke  Solar  Thermal  \\\n",
      "TIMESTAMP                                                            \n",
      "1                        1.0    0.446046  0.928560    0.0      1.0   \n",
      "2                        1.0    0.434063  0.928560    0.0      1.0   \n",
      "3                        1.0    0.388382  0.928560    0.0      1.0   \n",
      "4                        1.0    0.347019  0.928560    0.0      1.0   \n",
      "5                        1.0    0.342092  0.928560    0.0      1.0   \n",
      "...                      ...         ...       ...    ...      ...   \n",
      "8756                     1.0    0.702555  0.898972    0.0      1.0   \n",
      "8757                     1.0    0.559915  0.898972    0.0      1.0   \n",
      "8758                     1.0    0.477251  0.898972    0.0      1.0   \n",
      "8759                     1.0    0.435706  0.898972    0.0      1.0   \n",
      "8760                     1.0    0.494647  0.898972    0.0      1.0   \n",
      "\n",
      "TECHNOLOGIES  WindOnShore  \n",
      "TIMESTAMP                  \n",
      "1                0.583934  \n",
      "2                0.538035  \n",
      "3                0.519537  \n",
      "4                0.485877  \n",
      "5                0.475760  \n",
      "...                   ...  \n",
      "8756             0.484114  \n",
      "8757             0.473258  \n",
      "8758             0.461539  \n",
      "8759             0.466096  \n",
      "8760             0.459309  \n",
      "\n",
      "[8760 rows x 6 columns]\n"
     ]
    }
   ],
   "source": [
    "# Put your answer here\n"
   ]
  },
  {
   "cell_type": "markdown",
   "metadata": {},
   "source": [
    " **b -- Upper bound**\n",
    "\n",
    "How much power of XXX power would you need to install in LLL to have an **hourly energy** produced equal to the hourly energy consummed in year YYY ?\n",
    " Answer this question for XXX = {Wind, Nuke}, LLL =available country and YYY available year.\n",
    " Assuming that for all hours of the year the excess of production is lost, what would be the capacity factor of productions in this cases"
   ]
  },
  {
   "cell_type": "code",
   "execution_count": null,
   "metadata": {
    "collapsed": false,
    "jupyter": {
     "outputs_hidden": false
    },
    "pycharm": {
     "name": "#%%\n"
    }
   },
   "outputs": [],
   "source": [
    "# Put your answer here\n"
   ]
  },
  {
   "cell_type": "markdown",
   "metadata": {},
   "source": [
    " **c -- Sensitivity of the result to thermal sensitivity of consumption**\n",
    "\n",
    " For year 2016 and in France, analyse the sensitivity of the preceding results (upper bound and lower bound) on the thermal sensitivity of consumption"
   ]
  },
  {
   "cell_type": "code",
   "execution_count": null,
   "metadata": {
    "collapsed": false,
    "jupyter": {
     "outputs_hidden": false
    },
    "pycharm": {
     "name": "#%%\n"
    }
   },
   "outputs": [],
   "source": [
    "# Put your answer here\n"
   ]
  },
  {
   "cell_type": "markdown",
   "metadata": {
    "pycharm": {
     "name": "#%% md\n"
    }
   },
   "source": [
    "### Q1.3 Dimensioning -- Adding a storage <a class=\"anchor\" id=\"1.3.Question\"></a>\n",
    "These questions are much more difficult than the preceding ones. It is possible that no student will manage to do it during the practical work session.\n",
    "\n",
    "**a - Dimensioning a system with Renewable + \"infinite storage\"**\n",
    "\n",
    "We now assume we have a theoretical storage with\n",
    " - infinite energy capacity (can store for hours without being full start with an initial capacity to discuss)\n",
    " - a maximum production power (of the storage) that will be equal to the maximum consumption power (of the storage)\n",
    " - These maximum power are supposed ajusted so that $C_t\\leq P_t+S_t$ for all hours $t$ of the considered year\n",
    " (With $C$ the consumption,$P$ the wind power production, $S$ the storage production. $S$ can be negative when it is a consumption)\n",
    " - an efficiency $\\eta=70%$\n",
    "\n",
    "\n",
    "\n",
    "Try to compute :\n",
    " - installed power of wind and storage,\n",
    " - losses of wind energy through the storage\n",
    " - losses of wind energy that cannot be stored of consumed directly."
   ]
  },
  {
   "cell_type": "code",
   "execution_count": null,
   "metadata": {
    "collapsed": false,
    "jupyter": {
     "outputs_hidden": false
    },
    "pycharm": {
     "name": "#%%\n"
    }
   },
   "outputs": [],
   "source": [
    "# Put your answer here\n"
   ]
  },
  {
   "cell_type": "markdown",
   "metadata": {},
   "source": [
    "**b -adding french hydro power**\n",
    "\n",
    " In the preceding system, you can add french hydro production (the data can be found in Eco2mix section of input-Availability.ipynb)"
   ]
  },
  {
   "cell_type": "code",
   "execution_count": null,
   "metadata": {
    "collapsed": false,
    "jupyter": {
     "outputs_hidden": false
    },
    "pycharm": {
     "name": "#%%\n"
    }
   },
   "outputs": [],
   "source": [
    "# Put your answer here"
   ]
  },
  {
   "cell_type": "markdown",
   "metadata": {},
   "source": [
    "**c -sensitibvity to thermal sensitivity**\n",
    "\n",
    " What is the sensitivity of the preceding results to thermal sensitivity of consumption"
   ]
  },
  {
   "cell_type": "code",
   "execution_count": null,
   "metadata": {
    "collapsed": false,
    "jupyter": {
     "outputs_hidden": false
    },
    "pycharm": {
     "name": "#%%\n"
    }
   },
   "outputs": [],
   "source": [
    "# Put your answer here"
   ]
  },
  {
   "cell_type": "markdown",
   "metadata": {},
   "source": [
    "** d -Adding PV **\n",
    "In the preceding system, assume now you can mix PV and wind. What can you gain ?"
   ]
  },
  {
   "cell_type": "code",
   "execution_count": null,
   "metadata": {
    "collapsed": false,
    "jupyter": {
     "outputs_hidden": false
    },
    "pycharm": {
     "name": "#%%\n"
    }
   },
   "outputs": [],
   "source": [
    "# Put your answer here\n"
   ]
  },
  {
   "cell_type": "markdown",
   "metadata": {},
   "source": [
    "If you finish all this before the end of the first session, of if you wish to dig a little bit more, you can read [this article](https://jancovici.com/transition-energetique/renouvelables/100-renouvelable-pour-pas-plus-cher-fastoche/)\n",
    "and discuss the dimensioning choice for the storage that is proposed there. Otherwise, or after that, you can switch to question 2."
   ]
  },
  {
   "cell_type": "markdown",
   "metadata": {},
   "source": [
    "## 2. Economic analysis, computing LCOE, system LCOE <a class=\"anchor\" id=\"2.LCOE\"></a>"
   ]
  },
  {
   "cell_type": "markdown",
   "metadata": {},
   "source": [
    "### Q2.1. LCOE of renewable + Flex system <a class=\"anchor\" id=\"2.1.Question\"></a>\n",
    "Read and understand jupyter notebook optim-Operation.ipynb.\n",
    "Try to imagine systems that are feasible and compute the corresponding system LCOE in the two following cases:\n",
    "- Nuke + CCG + hydro\n",
    "- Renewable + CCG + hydro\n",
    "You will need to set the installed power and produced energy for each of these production mean. Try to get inspiration from preceding section.\n",
    "There are no \"right answer\", the idea here is to have rough estimates that will be improved later.\n",
    "Try adding significant amount of electrolyser/fuel cells to replace CCG. How much capacity would you install and see how it changes the results ?\n",
    "Try changing the thermal sensitivity of consumption.\n",
    "You can also analyse the effect of discount rate, or carbon tax, or cost of gaz (by assumign e.g. it is a very expensive biogaz)."
   ]
  },
  {
   "cell_type": "code",
   "execution_count": 99,
   "metadata": {
    "collapsed": false,
    "jupyter": {
     "outputs_hidden": false
    },
    "pycharm": {
     "name": "#%%\n"
    }
   },
   "outputs": [
    {
     "data": {
      "text/html": [
       "<div>\n",
       "<style scoped>\n",
       "    .dataframe tbody tr th:only-of-type {\n",
       "        vertical-align: middle;\n",
       "    }\n",
       "\n",
       "    .dataframe tbody tr th {\n",
       "        vertical-align: top;\n",
       "    }\n",
       "\n",
       "    .dataframe thead th {\n",
       "        text-align: right;\n",
       "    }\n",
       "</style>\n",
       "<table border=\"1\" class=\"dataframe\">\n",
       "  <thead>\n",
       "    <tr style=\"text-align: right;\">\n",
       "      <th></th>\n",
       "      <th>capacity</th>\n",
       "      <th>ProducedEnergy</th>\n",
       "      <th>CAPEX</th>\n",
       "      <th>dismantling</th>\n",
       "      <th>Variable</th>\n",
       "      <th>FOM</th>\n",
       "      <th>LL</th>\n",
       "      <th>CL</th>\n",
       "      <th>CO2Emission</th>\n",
       "      <th>LLr</th>\n",
       "      <th>capacityCost</th>\n",
       "      <th>energyCost</th>\n",
       "      <th>LCOE</th>\n",
       "      <th>FC</th>\n",
       "    </tr>\n",
       "    <tr>\n",
       "      <th>TECHNOLOGIES</th>\n",
       "      <th></th>\n",
       "      <th></th>\n",
       "      <th></th>\n",
       "      <th></th>\n",
       "      <th></th>\n",
       "      <th></th>\n",
       "      <th></th>\n",
       "      <th></th>\n",
       "      <th></th>\n",
       "      <th></th>\n",
       "      <th></th>\n",
       "      <th></th>\n",
       "      <th></th>\n",
       "      <th></th>\n",
       "    </tr>\n",
       "  </thead>\n",
       "  <tbody>\n",
       "    <tr>\n",
       "      <th>TAC</th>\n",
       "      <td>4.0</td>\n",
       "      <td>3.2</td>\n",
       "      <td>600</td>\n",
       "      <td>100</td>\n",
       "      <td>60</td>\n",
       "      <td>36</td>\n",
       "      <td>30</td>\n",
       "      <td>2</td>\n",
       "      <td>600</td>\n",
       "      <td>17.98</td>\n",
       "      <td>86830.0</td>\n",
       "      <td>60.02</td>\n",
       "      <td>185.252848</td>\n",
       "      <td>0.091324</td>\n",
       "    </tr>\n",
       "    <tr>\n",
       "      <th>Coal</th>\n",
       "      <td>2.0</td>\n",
       "      <td>1.0</td>\n",
       "      <td>1100</td>\n",
       "      <td>100</td>\n",
       "      <td>40</td>\n",
       "      <td>36</td>\n",
       "      <td>30</td>\n",
       "      <td>2</td>\n",
       "      <td>1000</td>\n",
       "      <td>17.98</td>\n",
       "      <td>103500.0</td>\n",
       "      <td>40.04</td>\n",
       "      <td>296.021909</td>\n",
       "      <td>0.057078</td>\n",
       "    </tr>\n",
       "    <tr>\n",
       "      <th>CCG</th>\n",
       "      <td>12.0</td>\n",
       "      <td>38.6</td>\n",
       "      <td>900</td>\n",
       "      <td>100</td>\n",
       "      <td>50</td>\n",
       "      <td>36</td>\n",
       "      <td>30</td>\n",
       "      <td>2</td>\n",
       "      <td>470</td>\n",
       "      <td>17.98</td>\n",
       "      <td>96830.0</td>\n",
       "      <td>50.02</td>\n",
       "      <td>86.338078</td>\n",
       "      <td>0.367199</td>\n",
       "    </tr>\n",
       "    <tr>\n",
       "      <th>OldNuke</th>\n",
       "      <td>63.0</td>\n",
       "      <td>413.0</td>\n",
       "      <td>3000</td>\n",
       "      <td>1000</td>\n",
       "      <td>7</td>\n",
       "      <td>150</td>\n",
       "      <td>60</td>\n",
       "      <td>0</td>\n",
       "      <td>0</td>\n",
       "      <td>23.53</td>\n",
       "      <td>245060.0</td>\n",
       "      <td>7.00</td>\n",
       "      <td>63.830761</td>\n",
       "      <td>0.748351</td>\n",
       "    </tr>\n",
       "    <tr>\n",
       "      <th>NukeCarrene</th>\n",
       "      <td>0.0</td>\n",
       "      <td>0.0</td>\n",
       "      <td>1587</td>\n",
       "      <td>1000</td>\n",
       "      <td>7</td>\n",
       "      <td>200</td>\n",
       "      <td>60</td>\n",
       "      <td>0</td>\n",
       "      <td>0</td>\n",
       "      <td>23.53</td>\n",
       "      <td>321510.0</td>\n",
       "      <td>7.00</td>\n",
       "      <td>NaN</td>\n",
       "      <td>NaN</td>\n",
       "    </tr>\n",
       "    <tr>\n",
       "      <th>NewNuke</th>\n",
       "      <td>0.0</td>\n",
       "      <td>0.0</td>\n",
       "      <td>4000</td>\n",
       "      <td>1000</td>\n",
       "      <td>7</td>\n",
       "      <td>200</td>\n",
       "      <td>60</td>\n",
       "      <td>10</td>\n",
       "      <td>0</td>\n",
       "      <td>23.53</td>\n",
       "      <td>361730.0</td>\n",
       "      <td>7.00</td>\n",
       "      <td>NaN</td>\n",
       "      <td>NaN</td>\n",
       "    </tr>\n",
       "    <tr>\n",
       "      <th>WindOnShore</th>\n",
       "      <td>14.9</td>\n",
       "      <td>29.0</td>\n",
       "      <td>1300</td>\n",
       "      <td>50</td>\n",
       "      <td>0</td>\n",
       "      <td>45</td>\n",
       "      <td>30</td>\n",
       "      <td>2</td>\n",
       "      <td>0</td>\n",
       "      <td>17.98</td>\n",
       "      <td>103750.0</td>\n",
       "      <td>0.00</td>\n",
       "      <td>68.189846</td>\n",
       "      <td>0.222181</td>\n",
       "    </tr>\n",
       "    <tr>\n",
       "      <th>WindOffShore</th>\n",
       "      <td>0.0</td>\n",
       "      <td>0.0</td>\n",
       "      <td>2500</td>\n",
       "      <td>100</td>\n",
       "      <td>0</td>\n",
       "      <td>114</td>\n",
       "      <td>30</td>\n",
       "      <td>3</td>\n",
       "      <td>0</td>\n",
       "      <td>17.98</td>\n",
       "      <td>228170.0</td>\n",
       "      <td>0.00</td>\n",
       "      <td>NaN</td>\n",
       "      <td>NaN</td>\n",
       "    </tr>\n",
       "    <tr>\n",
       "      <th>HydroReservoir</th>\n",
       "      <td>7.0</td>\n",
       "      <td>33.0</td>\n",
       "      <td>1500</td>\n",
       "      <td>10</td>\n",
       "      <td>0</td>\n",
       "      <td>20</td>\n",
       "      <td>80</td>\n",
       "      <td>10</td>\n",
       "      <td>0</td>\n",
       "      <td>24.87</td>\n",
       "      <td>39180.0</td>\n",
       "      <td>0.00</td>\n",
       "      <td>17.128252</td>\n",
       "      <td>0.538160</td>\n",
       "    </tr>\n",
       "    <tr>\n",
       "      <th>HydroRiver</th>\n",
       "      <td>10.0</td>\n",
       "      <td>30.0</td>\n",
       "      <td>1500</td>\n",
       "      <td>10</td>\n",
       "      <td>0</td>\n",
       "      <td>20</td>\n",
       "      <td>80</td>\n",
       "      <td>10</td>\n",
       "      <td>0</td>\n",
       "      <td>24.87</td>\n",
       "      <td>39180.0</td>\n",
       "      <td>0.00</td>\n",
       "      <td>26.915825</td>\n",
       "      <td>0.342466</td>\n",
       "    </tr>\n",
       "    <tr>\n",
       "      <th>Solar</th>\n",
       "      <td>9.6</td>\n",
       "      <td>11.0</td>\n",
       "      <td>800</td>\n",
       "      <td>30</td>\n",
       "      <td>0</td>\n",
       "      <td>20</td>\n",
       "      <td>25</td>\n",
       "      <td>1</td>\n",
       "      <td>0</td>\n",
       "      <td>16.25</td>\n",
       "      <td>63250.0</td>\n",
       "      <td>0.00</td>\n",
       "      <td>70.240820</td>\n",
       "      <td>0.130803</td>\n",
       "    </tr>\n",
       "    <tr>\n",
       "      <th>ResidentialRoofTopSolar</th>\n",
       "      <td>0.0</td>\n",
       "      <td>0.0</td>\n",
       "      <td>1400</td>\n",
       "      <td>30</td>\n",
       "      <td>0</td>\n",
       "      <td>5</td>\n",
       "      <td>25</td>\n",
       "      <td>0</td>\n",
       "      <td>0</td>\n",
       "      <td>16.25</td>\n",
       "      <td>72250.0</td>\n",
       "      <td>0.00</td>\n",
       "      <td>NaN</td>\n",
       "      <td>NaN</td>\n",
       "    </tr>\n",
       "    <tr>\n",
       "      <th>IndusRoofTopSolar</th>\n",
       "      <td>0.0</td>\n",
       "      <td>0.0</td>\n",
       "      <td>1000</td>\n",
       "      <td>30</td>\n",
       "      <td>0</td>\n",
       "      <td>20</td>\n",
       "      <td>25</td>\n",
       "      <td>1</td>\n",
       "      <td>0</td>\n",
       "      <td>16.25</td>\n",
       "      <td>71250.0</td>\n",
       "      <td>0.00</td>\n",
       "      <td>NaN</td>\n",
       "      <td>NaN</td>\n",
       "    </tr>\n",
       "    <tr>\n",
       "      <th>curtailment</th>\n",
       "      <td>10.0</td>\n",
       "      <td>0.0</td>\n",
       "      <td>0</td>\n",
       "      <td>0</td>\n",
       "      <td>3000</td>\n",
       "      <td>0</td>\n",
       "      <td>1</td>\n",
       "      <td>0</td>\n",
       "      <td>0</td>\n",
       "      <td>1.00</td>\n",
       "      <td>0.0</td>\n",
       "      <td>3000.00</td>\n",
       "      <td>NaN</td>\n",
       "      <td>0.000000</td>\n",
       "    </tr>\n",
       "  </tbody>\n",
       "</table>\n",
       "</div>"
      ],
      "text/plain": [
       "                         capacity  ProducedEnergy  CAPEX  dismantling  \\\n",
       "TECHNOLOGIES                                                            \n",
       "TAC                           4.0             3.2    600          100   \n",
       "Coal                          2.0             1.0   1100          100   \n",
       "CCG                          12.0            38.6    900          100   \n",
       "OldNuke                      63.0           413.0   3000         1000   \n",
       "NukeCarrene                   0.0             0.0   1587         1000   \n",
       "NewNuke                       0.0             0.0   4000         1000   \n",
       "WindOnShore                  14.9            29.0   1300           50   \n",
       "WindOffShore                  0.0             0.0   2500          100   \n",
       "HydroReservoir                7.0            33.0   1500           10   \n",
       "HydroRiver                   10.0            30.0   1500           10   \n",
       "Solar                         9.6            11.0    800           30   \n",
       "ResidentialRoofTopSolar       0.0             0.0   1400           30   \n",
       "IndusRoofTopSolar             0.0             0.0   1000           30   \n",
       "curtailment                  10.0             0.0      0            0   \n",
       "\n",
       "                         Variable  FOM  LL  CL  CO2Emission    LLr  \\\n",
       "TECHNOLOGIES                                                         \n",
       "TAC                            60   36  30   2          600  17.98   \n",
       "Coal                           40   36  30   2         1000  17.98   \n",
       "CCG                            50   36  30   2          470  17.98   \n",
       "OldNuke                         7  150  60   0            0  23.53   \n",
       "NukeCarrene                     7  200  60   0            0  23.53   \n",
       "NewNuke                         7  200  60  10            0  23.53   \n",
       "WindOnShore                     0   45  30   2            0  17.98   \n",
       "WindOffShore                    0  114  30   3            0  17.98   \n",
       "HydroReservoir                  0   20  80  10            0  24.87   \n",
       "HydroRiver                      0   20  80  10            0  24.87   \n",
       "Solar                           0   20  25   1            0  16.25   \n",
       "ResidentialRoofTopSolar         0    5  25   0            0  16.25   \n",
       "IndusRoofTopSolar               0   20  25   1            0  16.25   \n",
       "curtailment                  3000    0   1   0            0   1.00   \n",
       "\n",
       "                         capacityCost  energyCost        LCOE        FC  \n",
       "TECHNOLOGIES                                                             \n",
       "TAC                           86830.0       60.02  185.252848  0.091324  \n",
       "Coal                         103500.0       40.04  296.021909  0.057078  \n",
       "CCG                           96830.0       50.02   86.338078  0.367199  \n",
       "OldNuke                      245060.0        7.00   63.830761  0.748351  \n",
       "NukeCarrene                  321510.0        7.00         NaN       NaN  \n",
       "NewNuke                      361730.0        7.00         NaN       NaN  \n",
       "WindOnShore                  103750.0        0.00   68.189846  0.222181  \n",
       "WindOffShore                 228170.0        0.00         NaN       NaN  \n",
       "HydroReservoir                39180.0        0.00   17.128252  0.538160  \n",
       "HydroRiver                    39180.0        0.00   26.915825  0.342466  \n",
       "Solar                         63250.0        0.00   70.240820  0.130803  \n",
       "ResidentialRoofTopSolar       72250.0        0.00         NaN       NaN  \n",
       "IndusRoofTopSolar             71250.0        0.00         NaN       NaN  \n",
       "curtailment                       0.0     3000.00         NaN  0.000000  "
      ]
     },
     "execution_count": 99,
     "metadata": {},
     "output_type": "execute_result"
    }
   ],
   "source": [
    "# Get the data\n",
    "General = pd.read_csv(InputFolder+'GeneralEconomicAssumptions.csv',sep=',',decimal='.',skiprows=0,comment=\"#\")\n",
    "\n",
    "Production = pd.read_csv(InputFolder+'ProductionEconomicAssumptions.csv',sep=',',decimal='.',skiprows=0,comment=\"#\")\n",
    "Production=Production[Production[\"AREAS\"]==\"FR\"]\n",
    "\n",
    "r=(General.discountPercent[0]/100)\n",
    "Production=Production.assign(\n",
    "    LLr = round((1+r)/r*(1-(1+r)**(-Production['LL'])),2),\n",
    "    capacityCost = round(Production.CAPEX/Production.LL+ Production.dismantling/(1+r)**(Production.LL) +Production.FOM,2)*1000,\n",
    "    energyCost = round(Production.Variable + Production.CO2Emission*General.carbonTaxEurosPerT[0]/10**6,2)\n",
    ")\n",
    "\n",
    "#region - general economic assumption\n",
    "ProductionTech = pd.read_csv(InputFolder+'ProductionTechnicalAssumptions.csv',sep=',',decimal='.',skiprows=0,comment=\"#\")\n",
    "ProductionTech=ProductionTech[ProductionTech[\"AREAS\"]==\"FR\"]\n",
    "ProductionTechPlus=ProductionTech.merge(Production, how='inner', left_on=[\"AREAS\",\"TECHNOLOGIES\"], right_on=[\"AREAS\",\"TECHNOLOGIES\"])\n",
    "# ------------------------------------------------------------------------------------------------------------------------------------\n",
    "\n",
    "# mytechs = [\"OldNuke\", \"CCG\", \"HydroReservoir\", \"Solar\", \"WindOnShore\", \"WindOffShore\"]\n",
    "# ProductionTechPlus = ProductionTechPlus[ProductionTechPlus[\"TECHNOLOGIES\"].isin(mytechs)]\n",
    "\n",
    "# On rend la data plus compacte\n",
    "df = ProductionTechPlus.copy()\n",
    "df[\"capacity\"] /= 1000\n",
    "df.drop(df.columns[[0,1,5,6,7,8,9,10]], axis=1, inplace=True)\n",
    "df.set_index(\"TECHNOLOGIES\", inplace=True)\n",
    "\n",
    "# Capex du nucleaire\n",
    "df.at[\"OldNuke\", \"CAPEX\"] = 3000\n",
    "\n",
    "# On calcule le LCOE (en €/MWh)\n",
    "df[\"LCOE\"] = (df.CAPEX/df.LLr + df.dismantling/((1+r)**(df.LL)) + df.FOM) * (df.capacity/(df.ProducedEnergy)) + df.Variable\n",
    "\n",
    "# On ajoute une colonne facteur de charge\n",
    "df[\"FC\"] = df.ProducedEnergy / (8.76 * df.capacity)\n",
    "\n",
    "df"
   ]
  },
  {
   "cell_type": "code",
   "execution_count": 100,
   "metadata": {},
   "outputs": [],
   "source": [
    "df = df.reset_index()"
   ]
  },
  {
   "cell_type": "code",
   "execution_count": 119,
   "metadata": {},
   "outputs": [
    {
     "name": "stdout",
     "output_type": "stream",
     "text": [
      "LCOE moyen : 60.37205854459385\n"
     ]
    },
    {
     "data": {
      "text/html": [
       "<div>\n",
       "<style scoped>\n",
       "    .dataframe tbody tr th:only-of-type {\n",
       "        vertical-align: middle;\n",
       "    }\n",
       "\n",
       "    .dataframe tbody tr th {\n",
       "        vertical-align: top;\n",
       "    }\n",
       "\n",
       "    .dataframe thead th {\n",
       "        text-align: right;\n",
       "    }\n",
       "</style>\n",
       "<table border=\"1\" class=\"dataframe\">\n",
       "  <thead>\n",
       "    <tr style=\"text-align: right;\">\n",
       "      <th></th>\n",
       "      <th>capacity</th>\n",
       "      <th>ProducedEnergy</th>\n",
       "      <th>CAPEX</th>\n",
       "      <th>dismantling</th>\n",
       "      <th>Variable</th>\n",
       "      <th>FOM</th>\n",
       "      <th>LL</th>\n",
       "      <th>CL</th>\n",
       "      <th>CO2Emission</th>\n",
       "      <th>LLr</th>\n",
       "      <th>capacityCost</th>\n",
       "      <th>energyCost</th>\n",
       "      <th>LCOE</th>\n",
       "      <th>FC</th>\n",
       "      <th>LCOEm</th>\n",
       "    </tr>\n",
       "    <tr>\n",
       "      <th>TECHNOLOGIES</th>\n",
       "      <th></th>\n",
       "      <th></th>\n",
       "      <th></th>\n",
       "      <th></th>\n",
       "      <th></th>\n",
       "      <th></th>\n",
       "      <th></th>\n",
       "      <th></th>\n",
       "      <th></th>\n",
       "      <th></th>\n",
       "      <th></th>\n",
       "      <th></th>\n",
       "      <th></th>\n",
       "      <th></th>\n",
       "      <th></th>\n",
       "    </tr>\n",
       "  </thead>\n",
       "  <tbody>\n",
       "    <tr>\n",
       "      <th>CCG</th>\n",
       "      <td>12.0</td>\n",
       "      <td>38.6</td>\n",
       "      <td>900</td>\n",
       "      <td>100</td>\n",
       "      <td>50</td>\n",
       "      <td>36</td>\n",
       "      <td>30</td>\n",
       "      <td>2</td>\n",
       "      <td>470</td>\n",
       "      <td>17.98</td>\n",
       "      <td>96830.0</td>\n",
       "      <td>50.02</td>\n",
       "      <td>86.338078</td>\n",
       "      <td>0.367199</td>\n",
       "      <td>6.476195</td>\n",
       "    </tr>\n",
       "    <tr>\n",
       "      <th>OldNuke</th>\n",
       "      <td>63.0</td>\n",
       "      <td>413.0</td>\n",
       "      <td>3000</td>\n",
       "      <td>1000</td>\n",
       "      <td>7</td>\n",
       "      <td>150</td>\n",
       "      <td>60</td>\n",
       "      <td>0</td>\n",
       "      <td>0</td>\n",
       "      <td>23.53</td>\n",
       "      <td>245060.0</td>\n",
       "      <td>7.00</td>\n",
       "      <td>63.830761</td>\n",
       "      <td>0.748351</td>\n",
       "      <td>51.228341</td>\n",
       "    </tr>\n",
       "    <tr>\n",
       "      <th>HydroReservoir</th>\n",
       "      <td>7.0</td>\n",
       "      <td>33.0</td>\n",
       "      <td>1500</td>\n",
       "      <td>10</td>\n",
       "      <td>0</td>\n",
       "      <td>20</td>\n",
       "      <td>80</td>\n",
       "      <td>10</td>\n",
       "      <td>0</td>\n",
       "      <td>24.87</td>\n",
       "      <td>39180.0</td>\n",
       "      <td>0.00</td>\n",
       "      <td>17.128252</td>\n",
       "      <td>0.538160</td>\n",
       "      <td>1.098392</td>\n",
       "    </tr>\n",
       "    <tr>\n",
       "      <th>HydroRiver</th>\n",
       "      <td>10.0</td>\n",
       "      <td>30.0</td>\n",
       "      <td>1500</td>\n",
       "      <td>10</td>\n",
       "      <td>0</td>\n",
       "      <td>20</td>\n",
       "      <td>80</td>\n",
       "      <td>10</td>\n",
       "      <td>0</td>\n",
       "      <td>24.87</td>\n",
       "      <td>39180.0</td>\n",
       "      <td>0.00</td>\n",
       "      <td>26.915825</td>\n",
       "      <td>0.342466</td>\n",
       "      <td>1.569131</td>\n",
       "    </tr>\n",
       "  </tbody>\n",
       "</table>\n",
       "</div>"
      ],
      "text/plain": [
       "                capacity  ProducedEnergy  CAPEX  dismantling  Variable  FOM  \\\n",
       "TECHNOLOGIES                                                                  \n",
       "CCG                 12.0            38.6    900          100        50   36   \n",
       "OldNuke             63.0           413.0   3000         1000         7  150   \n",
       "HydroReservoir       7.0            33.0   1500           10         0   20   \n",
       "HydroRiver          10.0            30.0   1500           10         0   20   \n",
       "\n",
       "                LL  CL  CO2Emission    LLr  capacityCost  energyCost  \\\n",
       "TECHNOLOGIES                                                           \n",
       "CCG             30   2          470  17.98       96830.0       50.02   \n",
       "OldNuke         60   0            0  23.53      245060.0        7.00   \n",
       "HydroReservoir  80  10            0  24.87       39180.0        0.00   \n",
       "HydroRiver      80  10            0  24.87       39180.0        0.00   \n",
       "\n",
       "                     LCOE        FC      LCOEm  \n",
       "TECHNOLOGIES                                    \n",
       "CCG             86.338078  0.367199   6.476195  \n",
       "OldNuke         63.830761  0.748351  51.228341  \n",
       "HydroReservoir  17.128252  0.538160   1.098392  \n",
       "HydroRiver      26.915825  0.342466   1.569131  "
      ]
     },
     "execution_count": 119,
     "metadata": {},
     "output_type": "execute_result"
    }
   ],
   "source": [
    "# ------------------------------------------------------------------------------------------------------------------------------------\n",
    "# scénario 1\n",
    "mytechs = [\"OldNuke\", \"CCG\", \"HydroReservoir\", \"HydroRiver\"]\n",
    "df1 = df[df[\"TECHNOLOGIES\"].isin(mytechs)].copy()\n",
    "df1.set_index(\"TECHNOLOGIES\", inplace=True)\n",
    "\n",
    "# on calcule la moyenne pondérée des LCOE\n",
    "df1[\"LCOEm\"] = df1.LCOE * df1.ProducedEnergy / sum(df1[\"ProducedEnergy\"])\n",
    "\n",
    "print(\"LCOE moyen :\", sum(df1[\"LCOEm\"]))\n",
    "df1"
   ]
  },
  {
   "cell_type": "code",
   "execution_count": 121,
   "metadata": {},
   "outputs": [
    {
     "name": "stdout",
     "output_type": "stream",
     "text": [
      "LCOE moyen : 63.1784694663786\n"
     ]
    },
    {
     "data": {
      "text/html": [
       "<div>\n",
       "<style scoped>\n",
       "    .dataframe tbody tr th:only-of-type {\n",
       "        vertical-align: middle;\n",
       "    }\n",
       "\n",
       "    .dataframe tbody tr th {\n",
       "        vertical-align: top;\n",
       "    }\n",
       "\n",
       "    .dataframe thead th {\n",
       "        text-align: right;\n",
       "    }\n",
       "</style>\n",
       "<table border=\"1\" class=\"dataframe\">\n",
       "  <thead>\n",
       "    <tr style=\"text-align: right;\">\n",
       "      <th></th>\n",
       "      <th>capacity</th>\n",
       "      <th>ProducedEnergy</th>\n",
       "      <th>CAPEX</th>\n",
       "      <th>dismantling</th>\n",
       "      <th>Variable</th>\n",
       "      <th>FOM</th>\n",
       "      <th>LL</th>\n",
       "      <th>CL</th>\n",
       "      <th>CO2Emission</th>\n",
       "      <th>LLr</th>\n",
       "      <th>capacityCost</th>\n",
       "      <th>energyCost</th>\n",
       "      <th>LCOE</th>\n",
       "      <th>FC</th>\n",
       "      <th>LCOEm</th>\n",
       "    </tr>\n",
       "    <tr>\n",
       "      <th>TECHNOLOGIES</th>\n",
       "      <th></th>\n",
       "      <th></th>\n",
       "      <th></th>\n",
       "      <th></th>\n",
       "      <th></th>\n",
       "      <th></th>\n",
       "      <th></th>\n",
       "      <th></th>\n",
       "      <th></th>\n",
       "      <th></th>\n",
       "      <th></th>\n",
       "      <th></th>\n",
       "      <th></th>\n",
       "      <th></th>\n",
       "      <th></th>\n",
       "    </tr>\n",
       "  </thead>\n",
       "  <tbody>\n",
       "    <tr>\n",
       "      <th>CCG</th>\n",
       "      <td>35.0</td>\n",
       "      <td>112.583333</td>\n",
       "      <td>900</td>\n",
       "      <td>100</td>\n",
       "      <td>50</td>\n",
       "      <td>36</td>\n",
       "      <td>30</td>\n",
       "      <td>2</td>\n",
       "      <td>470</td>\n",
       "      <td>17.98</td>\n",
       "      <td>96830.0</td>\n",
       "      <td>50.02</td>\n",
       "      <td>86.338078</td>\n",
       "      <td>0.367199</td>\n",
       "      <td>18.442252</td>\n",
       "    </tr>\n",
       "    <tr>\n",
       "      <th>WindOnShore</th>\n",
       "      <td>120.0</td>\n",
       "      <td>233.557047</td>\n",
       "      <td>1300</td>\n",
       "      <td>50</td>\n",
       "      <td>0</td>\n",
       "      <td>45</td>\n",
       "      <td>30</td>\n",
       "      <td>2</td>\n",
       "      <td>0</td>\n",
       "      <td>17.98</td>\n",
       "      <td>103750.0</td>\n",
       "      <td>0.00</td>\n",
       "      <td>68.189846</td>\n",
       "      <td>0.222181</td>\n",
       "      <td>30.216917</td>\n",
       "    </tr>\n",
       "    <tr>\n",
       "      <th>HydroReservoir</th>\n",
       "      <td>15.0</td>\n",
       "      <td>70.714286</td>\n",
       "      <td>1500</td>\n",
       "      <td>10</td>\n",
       "      <td>0</td>\n",
       "      <td>20</td>\n",
       "      <td>80</td>\n",
       "      <td>10</td>\n",
       "      <td>0</td>\n",
       "      <td>24.87</td>\n",
       "      <td>39180.0</td>\n",
       "      <td>0.00</td>\n",
       "      <td>17.128252</td>\n",
       "      <td>0.538160</td>\n",
       "      <td>2.298040</td>\n",
       "    </tr>\n",
       "    <tr>\n",
       "      <th>HydroRiver</th>\n",
       "      <td>10.0</td>\n",
       "      <td>30.000000</td>\n",
       "      <td>1500</td>\n",
       "      <td>10</td>\n",
       "      <td>0</td>\n",
       "      <td>20</td>\n",
       "      <td>80</td>\n",
       "      <td>10</td>\n",
       "      <td>0</td>\n",
       "      <td>24.87</td>\n",
       "      <td>39180.0</td>\n",
       "      <td>0.00</td>\n",
       "      <td>26.915825</td>\n",
       "      <td>0.342466</td>\n",
       "      <td>1.532027</td>\n",
       "    </tr>\n",
       "    <tr>\n",
       "      <th>Solar</th>\n",
       "      <td>70.0</td>\n",
       "      <td>80.208333</td>\n",
       "      <td>800</td>\n",
       "      <td>30</td>\n",
       "      <td>0</td>\n",
       "      <td>20</td>\n",
       "      <td>25</td>\n",
       "      <td>1</td>\n",
       "      <td>0</td>\n",
       "      <td>16.25</td>\n",
       "      <td>63250.0</td>\n",
       "      <td>0.00</td>\n",
       "      <td>70.240820</td>\n",
       "      <td>0.130803</td>\n",
       "      <td>10.689233</td>\n",
       "    </tr>\n",
       "  </tbody>\n",
       "</table>\n",
       "</div>"
      ],
      "text/plain": [
       "                capacity  ProducedEnergy  CAPEX  dismantling  Variable  FOM  \\\n",
       "TECHNOLOGIES                                                                  \n",
       "CCG                 35.0      112.583333    900          100        50   36   \n",
       "WindOnShore        120.0      233.557047   1300           50         0   45   \n",
       "HydroReservoir      15.0       70.714286   1500           10         0   20   \n",
       "HydroRiver          10.0       30.000000   1500           10         0   20   \n",
       "Solar               70.0       80.208333    800           30         0   20   \n",
       "\n",
       "                LL  CL  CO2Emission    LLr  capacityCost  energyCost  \\\n",
       "TECHNOLOGIES                                                           \n",
       "CCG             30   2          470  17.98       96830.0       50.02   \n",
       "WindOnShore     30   2            0  17.98      103750.0        0.00   \n",
       "HydroReservoir  80  10            0  24.87       39180.0        0.00   \n",
       "HydroRiver      80  10            0  24.87       39180.0        0.00   \n",
       "Solar           25   1            0  16.25       63250.0        0.00   \n",
       "\n",
       "                     LCOE        FC      LCOEm  \n",
       "TECHNOLOGIES                                    \n",
       "CCG             86.338078  0.367199  18.442252  \n",
       "WindOnShore     68.189846  0.222181  30.216917  \n",
       "HydroReservoir  17.128252  0.538160   2.298040  \n",
       "HydroRiver      26.915825  0.342466   1.532027  \n",
       "Solar           70.240820  0.130803  10.689233  "
      ]
     },
     "execution_count": 121,
     "metadata": {},
     "output_type": "execute_result"
    }
   ],
   "source": [
    "# ------------------------------------------------------------------------------------------------------------------------------------\n",
    "# scénario 2 # 35 gaz, 170 eolien, hydro 25, pv 100\n",
    "mytechs = [\"CCG\", \"HydroReservoir\", \"HydroRiver\", \"Solar\", \"WindOnShore\"]\n",
    "df2 = df[df[\"TECHNOLOGIES\"].isin(mytechs)].copy()\n",
    "df2.set_index(\"TECHNOLOGIES\", inplace=True)\n",
    "df2.at[\"CCG\", \"capacity\"] = 35\n",
    "df2.at[\"WindOnShore\", \"capacity\"] = 120\n",
    "df2.at[\"HydroReservoir\", \"capacity\"] = 15\n",
    "df2.at[\"HydroRiver\", \"capacity\"] = 10\n",
    "df2.at[\"Solar\", \"capacity\"] = 70\n",
    "\n",
    "# On calcule l'énergie produite avec le FC\n",
    "df2[\"ProducedEnergy\"] = (8.76 * df2.capacity) * df2.FC\n",
    "\n",
    "# On calcule le LCOE (en €/MWh)\n",
    "df2[\"LCOE\"] = (df2.CAPEX/df2.LLr + df2.dismantling/((1+r)**(df2.LL)) + df2.FOM) * (df2.capacity/(df2.ProducedEnergy)) + df2.Variable\n",
    "\n",
    "# on calcule la moyenne pondérée des LCOE\n",
    "df2[\"LCOEm\"] = df2.LCOE * df2.ProducedEnergy / sum(df2[\"ProducedEnergy\"])\n",
    "\n",
    "print(\"LCOE moyen :\", sum(df2[\"LCOEm\"]))\n",
    "df2"
   ]
  },
  {
   "cell_type": "markdown",
   "metadata": {},
   "source": [
    "## 3. Optimisation of operation <a class=\"anchor\" id=\"3.Operation\"></a>"
   ]
  },
  {
   "cell_type": "markdown",
   "metadata": {},
   "source": [
    "### Q3.1. Optimisation results and Lagrange multipliers <a class=\"anchor\" id=\"3.1.Question\"></a>\n",
    "Read and understand jupyter notebook optim-Operation.ipynb. Can you explain the value of all lagrange multiplier in a simple case with two production means ?\n",
    "With one area and then with two. How is it possible to generate negative lagrange multipliers ? Propose a simple case where they appear and explain the corresponding values.\n"
   ]
  },
  {
   "cell_type": "code",
   "execution_count": null,
   "metadata": {
    "collapsed": false,
    "jupyter": {
     "outputs_hidden": false
    },
    "pycharm": {
     "name": "#%%\n"
    }
   },
   "outputs": [],
   "source": [
    "# Put your answer here"
   ]
  },
  {
   "cell_type": "markdown",
   "metadata": {},
   "source": [
    "### Q3.2. Storage optimisation <a class=\"anchor\" id=\"3.2.Question\"></a>\n",
    "Read and understand jupyter notebook optim-storage.ipynb. What is the maximal price for the storage system to be profitable today ?\n",
    "Apply an homothetic transformation to increase the variance of the prices but without changing the mean (and by keeping positive prices).\n",
    "How does it change the preceding results ?"
   ]
  },
  {
   "cell_type": "code",
   "execution_count": null,
   "metadata": {
    "collapsed": false,
    "jupyter": {
     "outputs_hidden": false
    },
    "pycharm": {
     "name": "#%%\n"
    }
   },
   "outputs": [],
   "source": [
    "# Put your answer here\n"
   ]
  },
  {
   "cell_type": "markdown",
   "metadata": {},
   "source": [
    "## 4. Optimisation of planning <a class=\"anchor\" id=\"4.Planning\"></a>"
   ]
  },
  {
   "cell_type": "markdown",
   "metadata": {},
   "source": [
    "### Q4.1. Optimisation results and Lagrange multipliers <a class=\"anchor\" id=\"4.1.Question\"></a>\n",
    "\n",
    "**a - System LCOE**\n",
    "\n",
    "Read and understand jupyter notebook optim-storage.ipynb. Try using it to adapt your answer to Q2.1."
   ]
  },
  {
   "cell_type": "code",
   "execution_count": null,
   "metadata": {
    "collapsed": false,
    "jupyter": {
     "outputs_hidden": false
    },
    "pycharm": {
     "name": "#%%\n"
    }
   },
   "outputs": [],
   "source": [
    "# Put your answer here"
   ]
  },
  {
   "cell_type": "markdown",
   "metadata": {},
   "source": [
    "**a - Loss of load expectation**\n",
    "\n",
    "Today the expected loss of load is of 3 hours in average per year, try to find how to set the variable cost of \"curtailment\"\n",
    "(consumption that is cut, the cost is initially set to 3000 €/MWh) to have the value of this expected number at 3.1.\n",
    "Try to find in the CRE or RTE or ENEDIS website the \"official value\" in France."
   ]
  },
  {
   "cell_type": "code",
   "execution_count": null,
   "metadata": {
    "collapsed": false,
    "jupyter": {
     "outputs_hidden": false
    },
    "pycharm": {
     "name": "#%%\n"
    }
   },
   "outputs": [],
   "source": [
    "# Put your answer here"
   ]
  }
 ],
 "metadata": {
  "kernelspec": {
   "display_name": "energyalternative",
   "language": "python",
   "name": "energyalternative"
  },
  "language_info": {
   "codemirror_mode": {
    "name": "ipython",
    "version": 3
   },
   "file_extension": ".py",
   "mimetype": "text/x-python",
   "name": "python",
   "nbconvert_exporter": "python",
   "pygments_lexer": "ipython3",
   "version": "3.8.5"
  }
 },
 "nbformat": 4,
 "nbformat_minor": 4
}
